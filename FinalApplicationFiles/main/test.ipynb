{
 "cells": [
  {
   "cell_type": "code",
   "execution_count": 4,
   "metadata": {},
   "outputs": [
    {
     "name": "stderr",
     "output_type": "stream",
     "text": [
      "d:\\Projects\\PIB Chatbot\\Project_P\\.venv\\lib\\site-packages\\pinecone\\data\\index.py:1: TqdmWarning: IProgress not found. Please update jupyter and ipywidgets. See https://ipywidgets.readthedocs.io/en/stable/user_install.html\n",
      "  from tqdm.autonotebook import tqdm\n"
     ]
    }
   ],
   "source": [
    "# Import necessary libraries\n",
    "import sys\n",
    "import os\n",
    "sys.path.append(r'D:\\Projects\\PIB Chatbot\\Project_P')\n",
    "\n",
    "\n",
    "from dotenv import load_dotenv\n",
    "from FinalApplicationFiles.embeddings.embeddings import initialize_embeddings \n",
    "from FinalApplicationFiles.VectorDB.pinecone_setup import PineconeVectorDatabase\n",
    "from FinalApplicationFiles.LLMs.llm import initialize_llm, create_rag_chain\n",
    "# Load environment variables from .env file\n",
    "\n",
    "load_dotenv()\n",
    "\n",
    "# Fetch API keys from environment variables\n",
    "pinecone_api_key = os.getenv(\"PINECONE_API_KEY\")  # Pinecone API key\n",
    "gemini_api_key = os.getenv(\"GEMINI_API_KEY\")"
   ]
  },
  {
   "cell_type": "code",
   "execution_count": 5,
   "metadata": {},
   "outputs": [
    {
     "name": "stderr",
     "output_type": "stream",
     "text": [
      "d:\\Projects\\PIB Chatbot\\Project_P\\.venv\\lib\\site-packages\\transformers\\tokenization_utils_base.py:1617: FutureWarning: `clean_up_tokenization_spaces` was not set. It will be set to `True` by default. This behavior will be deprecated in transformers v4.45, and will be then set to `False` by default. For more details check this issue: https://github.com/huggingface/transformers/issues/31884\n",
      "  warnings.warn(\n"
     ]
    }
   ],
   "source": [
    "embeddings = initialize_embeddings()"
   ]
  },
  {
   "cell_type": "code",
   "execution_count": 13,
   "metadata": {},
   "outputs": [],
   "source": [
    "index_name = \"pib\"\n",
    "PVC = PineconeVectorDatabase(pinecone_api_key, index_name, embeddings)\n",
    "vector_store = PVC._setup_pinecone()\n"
   ]
  },
  {
   "cell_type": "code",
   "execution_count": 15,
   "metadata": {},
   "outputs": [
    {
     "name": "stdout",
     "output_type": "stream",
     "text": [
      "Error in retrieving documents: 'PineconeVectorDatabase' object has no attribute 'index'\n"
     ]
    }
   ],
   "source": [
    "retriever = PVC.retrieve_documents()"
   ]
  },
  {
   "cell_type": "code",
   "execution_count": null,
   "metadata": {},
   "outputs": [],
   "source": [
    "\n",
    "\n",
    "    # Setup Pinecone connection and index\n",
    "    \n",
    "    # Retrieve documents from the vector store (no vector addition)\n",
    "    \n",
    "\n",
    "    # Initialize the Google Generative AI model\n",
    "    llm = initialize_llm(gemini_api_key)\n",
    "\n",
    "    # Create the RAG chain (Retrieval-Augmented Generation)\n",
    "    rag_chain = create_rag_chain(retriever, llm)\n",
    "\n",
    "    # Loop to ask multiple questions\n",
    "    while True:\n",
    "        question = input(\"Enter your question (or type 'exit' to stop): \")\n",
    "\n",
    "        if question.lower() == 'exit':\n",
    "            print(\"Exiting the Q&A session.\")\n",
    "            break\n",
    "        \n",
    "        # Use the chain to generate an answer\n",
    "        ans = rag_chain.invoke(question)\n",
    "    \n",
    "\n",
    "        # Print the generated answer\n",
    "        print(f\"Answer: {ans}\")\n",
    "\n",
    "        print(\"\\n\")  # Blank line between questions"
   ]
  }
 ],
 "metadata": {
  "kernelspec": {
   "display_name": ".venv",
   "language": "python",
   "name": "python3"
  },
  "language_info": {
   "codemirror_mode": {
    "name": "ipython",
    "version": 3
   },
   "file_extension": ".py",
   "mimetype": "text/x-python",
   "name": "python",
   "nbconvert_exporter": "python",
   "pygments_lexer": "ipython3",
   "version": "3.9.18"
  }
 },
 "nbformat": 4,
 "nbformat_minor": 2
}
